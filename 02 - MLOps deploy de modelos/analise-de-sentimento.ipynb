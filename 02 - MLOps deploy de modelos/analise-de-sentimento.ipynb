{
 "cells": [
  {
   "cell_type": "code",
   "execution_count": 1,
   "metadata": {},
   "outputs": [
    {
     "name": "stdout",
     "output_type": "stream",
     "text": [
      "Collecting Flask-BasicAuth\n",
      "  Using cached Flask-BasicAuth-0.2.0.tar.gz (16 kB)\n",
      "  Preparing metadata (setup.py): started\n",
      "  Preparing metadata (setup.py): finished with status 'done'\n",
      "Requirement already satisfied: Flask in c:\\users\\bruno\\anaconda3\\envs\\machine_learning\\lib\\site-packages (from Flask-BasicAuth) (2.1.1)\n",
      "Requirement already satisfied: itsdangerous>=2.0 in c:\\users\\bruno\\anaconda3\\envs\\machine_learning\\lib\\site-packages (from Flask->Flask-BasicAuth) (2.1.2)\n",
      "Requirement already satisfied: Jinja2>=3.0 in c:\\users\\bruno\\anaconda3\\envs\\machine_learning\\lib\\site-packages (from Flask->Flask-BasicAuth) (3.0.3)\n",
      "Requirement already satisfied: Werkzeug>=2.0 in c:\\users\\bruno\\anaconda3\\envs\\machine_learning\\lib\\site-packages (from Flask->Flask-BasicAuth) (2.0.3)\n",
      "Requirement already satisfied: click>=8.0 in c:\\users\\bruno\\anaconda3\\envs\\machine_learning\\lib\\site-packages (from Flask->Flask-BasicAuth) (8.1.1)\n",
      "Requirement already satisfied: importlib-metadata>=3.6.0 in c:\\users\\bruno\\anaconda3\\envs\\machine_learning\\lib\\site-packages (from Flask->Flask-BasicAuth) (4.11.1)\n",
      "Requirement already satisfied: colorama in c:\\users\\bruno\\anaconda3\\envs\\machine_learning\\lib\\site-packages (from click>=8.0->Flask->Flask-BasicAuth) (0.4.4)\n",
      "Requirement already satisfied: zipp>=0.5 in c:\\users\\bruno\\anaconda3\\envs\\machine_learning\\lib\\site-packages (from importlib-metadata>=3.6.0->Flask->Flask-BasicAuth) (3.7.0)\n",
      "Requirement already satisfied: MarkupSafe>=2.0 in c:\\users\\bruno\\anaconda3\\envs\\machine_learning\\lib\\site-packages (from Jinja2>=3.0->Flask->Flask-BasicAuth) (2.0.1)\n",
      "Building wheels for collected packages: Flask-BasicAuth\n",
      "  Building wheel for Flask-BasicAuth (setup.py): started\n",
      "  Building wheel for Flask-BasicAuth (setup.py): finished with status 'done'\n",
      "  Created wheel for Flask-BasicAuth: filename=Flask_BasicAuth-0.2.0-py3-none-any.whl size=4243 sha256=99632852360c664a851cc2b1213c0508b4db95399fbda4d964daf4f2b15b0034\n",
      "  Stored in directory: c:\\users\\bruno\\appdata\\local\\pip\\cache\\wheels\\58\\74\\bd\\38e8fd3609bc962b1d807de1f96732ba088908cb1d242e6683\n",
      "Successfully built Flask-BasicAuth\n",
      "Installing collected packages: Flask-BasicAuth\n",
      "Successfully installed Flask-BasicAuth-0.2.0\n"
     ]
    }
   ],
   "source": [
    "!pip install Flask-BasicAuth"
   ]
  },
  {
   "cell_type": "code",
   "execution_count": null,
   "metadata": {},
   "outputs": [],
   "source": [
    "from flask_basicauth import BasicAuth"
   ]
  },
  {
   "cell_type": "code",
   "execution_count": 1,
   "metadata": {},
   "outputs": [],
   "source": [
    "from textblob import TextBlob"
   ]
  },
  {
   "cell_type": "code",
   "execution_count": 7,
   "metadata": {},
   "outputs": [],
   "source": [
    "frase = \"Python é ótimo para Machine Learning\"\n",
    "\n",
    "tb = TextBlob(frase)\n",
    "tb_en = tb.translate(to=\"en\")\n",
    "tb_en"
   ]
  },
  {
   "cell_type": "code",
   "execution_count": 9,
   "metadata": {},
   "outputs": [
    {
     "data": {
      "text/plain": [
       "0.8"
      ]
     },
     "execution_count": 9,
     "metadata": {},
     "output_type": "execute_result"
    }
   ],
   "source": [
    "tb_en.sentiment.polarity  # -1 até 1. -1 = negativo, 0 = neutro, 1 = positivo"
   ]
  }
 ],
 "metadata": {
  "interpreter": {
   "hash": "5920b5758d452ea2be3c84d3b52789bc04ee682949a6b0870d7691434146c726"
  },
  "kernelspec": {
   "display_name": "Python 3.8.13 ('machine_learning')",
   "language": "python",
   "name": "python3"
  },
  "language_info": {
   "codemirror_mode": {
    "name": "ipython",
    "version": 3
   },
   "file_extension": ".py",
   "mimetype": "text/x-python",
   "name": "python",
   "nbconvert_exporter": "python",
   "pygments_lexer": "ipython3",
   "version": "3.8.13"
  },
  "orig_nbformat": 4
 },
 "nbformat": 4,
 "nbformat_minor": 2
}
